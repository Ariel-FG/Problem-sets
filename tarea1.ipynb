{
 "cells": [
  {
   "cell_type": "markdown",
   "id": "cffe8004-860f-4ae2-85d4-84f31f1cc8f6",
   "metadata": {},
   "source": [
    "# Tarea 1 Análisis de Datos"
   ]
  },
  {
   "cell_type": "code",
   "execution_count": 1,
   "id": "bfe4ec93-981c-4be9-9fa6-95534f867b4c",
   "metadata": {},
   "outputs": [],
   "source": [
    "%matplotlib inline\n",
    "import matplotlib\n",
    "import numpy as np\n",
    "from matplotlib import pyplot as plt\n",
    "from matplotlib import dates as mpdates\n",
    "import datetime\n",
    "import pandas as pd\n",
    "import geopandas as gpd\n"
   ]
  },
  {
   "cell_type": "markdown",
   "id": "06e14d88-1c04-4ad5-b069-bede9f9eeb02",
   "metadata": {},
   "source": [
    "#"
   ]
  },
  {
   "cell_type": "code",
   "execution_count": null,
   "id": "ddc689cd-b7d3-4ded-a3aa-b2d811f1fa95",
   "metadata": {},
   "outputs": [],
   "source": [
    "\n",
    "df1 = pd.read_csv('https://raw.githubusercontent.com/MinCiencia/Datos-COVID19/master/output/producto74/paso_a_paso_std.csv', \n",
    "                     encoding='utf-8',\n",
    "                    sep=',')\n",
    "\n",
    "df2=gpd.read_file('https://opendata.arcgis.com/datasets/1c64fcb18f5a41e088b25ef9f42b58d7_0.geojson') # contiene población de cada comuna"
   ]
  },
  {
   "cell_type": "code",
   "execution_count": null,
   "id": "d7c46cc3-370e-4e79-a65d-2f277445c08f",
   "metadata": {},
   "outputs": [],
   "source": [
    "pd.set_option(\"display.max_columns\", None)  #se quitan límites del display de dataframes\n",
    "pd.set_option(\"display.max_rows\", None)"
   ]
  },
  {
   "cell_type": "markdown",
   "id": "1a66dfc9-12ac-4e16-af6f-5fddb4637edd",
   "metadata": {},
   "source": [
    "# DF1"
   ]
  },
  {
   "cell_type": "code",
   "execution_count": null,
   "id": "55b3f374-2681-45ed-8d2e-ef8df8064287",
   "metadata": {},
   "outputs": [],
   "source": [
    "#se limpia y moldea el df1 por conveniencia\n",
    "\n",
    "df1['Fecha']=pd.to_datetime(df1['Fecha'])\n",
    "df1=df1.rename(columns={'codigo_region': 'cod_region','region_residencia':'region','codigo_comuna':'cod_comuna',\n",
    "                      'comuna_residencia':'comuna','Fecha':'fecha'})\n",
    "df1=df1.loc[df1['Paso'] == 1]\n",
    "df1['zona']=df1['zona'].str.replace('Urbana','u')\n",
    "df1['zona']=df1['zona'].str.replace('Rural','r')\n",
    "df1['zona']=df1['zona'].str.replace('Total','t')    \n",
    "print('total de datos:',len(df1))\n",
    "df1.info()\n",
    "df1.head(10)"
   ]
  },
  {
   "cell_type": "code",
   "execution_count": null,
   "id": "bb95d600-39f0-49d5-817a-3d063fb79217",
   "metadata": {},
   "outputs": [],
   "source": [
    "df1['zona'].value_counts()"
   ]
  },
  {
   "cell_type": "code",
   "execution_count": null,
   "id": "96f0b226-1214-4a64-ba62-7ed8e8c77dfe",
   "metadata": {},
   "outputs": [],
   "source": [
    "df1_otra_zona=df1.loc[(df1['zona'] != 'u')] \n",
    "df1_otra_zona=df1_otra_zona.loc[df1['zona'] != 'r']\n",
    "df1_otra_zona=df1_otra_zona.loc[df1['zona'] != 't']\n",
    "# df1_otra_zona.head(300)       \n",
    "#                               Se decidió NO considerar las zonas que no estaban especificadas como urbanas, rurales o totales ya que generarian errores\n",
    "#                               en los números finales."
   ]
  },
  {
   "cell_type": "code",
   "execution_count": null,
   "id": "4d968b82-6f69-47b5-b60e-9f8242a54664",
   "metadata": {},
   "outputs": [],
   "source": [
    "df1_r=df1.loc[df1['zona'] == 'r']\n",
    "df1_u=df1.loc[df1['zona'] == 'u']\n",
    "df1_t=df1.loc[df1['zona'] == 't']\n",
    "# se divide el df en zonas por conveniencia a futuro"
   ]
  },
  {
   "cell_type": "markdown",
   "id": "bd6bad86-ac0f-41eb-8d01-e3a9c4b0dc1f",
   "metadata": {
    "tags": []
   },
   "source": [
    "# DF2"
   ]
  },
  {
   "cell_type": "code",
   "execution_count": null,
   "id": "16ef64d0-8c79-4864-a8aa-92af0b10b5de",
   "metadata": {},
   "outputs": [],
   "source": [
    "df2.head(1)"
   ]
  },
  {
   "cell_type": "code",
   "execution_count": null,
   "id": "f714c3a1-4c64-4df0-8dd9-a8f13180a0b2",
   "metadata": {},
   "outputs": [],
   "source": [
    "# se limpia el df2, se dejó la columna \"geometry\" para hacer un choropleth pero no resultó\n",
    "df2=df2[['COMUNA','T_POB_R','T_POB_U','T_POB','geometry']]\n",
    "df2=df2.rename(columns={'COMUNA':'cod_comuna','T_POB_R':'población_rural','T_POB_U':'población_urbana','T_POB':'población_total'})\n",
    "df2['cod_comuna']=pd.to_numeric(df2['cod_comuna'], errors='coerce')\n",
    "df2.info()\n",
    "df2.head(2)\n"
   ]
  },
  {
   "cell_type": "code",
   "execution_count": null,
   "id": "17a9e431-bef9-490b-a13a-cb7965e68b2a",
   "metadata": {},
   "outputs": [],
   "source": [
    "df2.loc[df2['cod_comuna']==2101].head(10)"
   ]
  },
  {
   "cell_type": "code",
   "execution_count": null,
   "id": "5f670efd-af43-4d02-9dd6-1ee21bf23c14",
   "metadata": {},
   "outputs": [],
   "source": [
    "# df2.loc[:,['cod_comuna','población_rural']]\n",
    "# df2.loc[:,['cod_comuna','población_urbana']]\n",
    "# df2.loc[:,['cod_comuna','población_total']]\n",
    "df1_r=pd.merge(df1_r,df2.loc[:,['cod_comuna','población_rural']],how='left',on='cod_comuna')\n",
    "df1_u=pd.merge(df1_u,df2.loc[:,['cod_comuna','población_urbana']],how='left',on='cod_comuna')\n",
    "df1_t=pd.merge(df1_t,df2.loc[:,['cod_comuna','población_total']],how='left',on='cod_comuna')\n",
    "df1_r=df1_r.rename(columns={'población_rural':'población'})\n",
    "df1_u=df1_u.rename(columns={'población_urbana':'población'})\n",
    "df1_t=df1_t.rename(columns={'población_total':'población'})\n",
    "\n",
    "### dataframes que se separaron en zonas se les agrega una población acorde a comuna y zona"
   ]
  },
  {
   "cell_type": "code",
   "execution_count": null,
   "id": "4370ca93-2de9-47c1-98fc-d34334b80352",
   "metadata": {},
   "outputs": [],
   "source": []
  },
  {
   "cell_type": "code",
   "execution_count": null,
   "id": "6e693429-34c2-4ccd-bbae-d36943fcff13",
   "metadata": {},
   "outputs": [],
   "source": [
    "df=pd.merge(df1_r,df1_u,how='outer')   #merge rural con urbano\n",
    "print(df['población'].isnull().sum())"
   ]
  },
  {
   "cell_type": "code",
   "execution_count": null,
   "id": "7426796c-84ee-492a-9c26-d2657a30b396",
   "metadata": {},
   "outputs": [],
   "source": [
    "df=pd.merge(df,df1_t,how='outer')      #merge (rural y urbano) con \n",
    "df=df.sort_values(['fecha','cod_comuna'])\n",
    "print(df['población'].isnull().sum())\n",
    "df.info()"
   ]
  },
  {
   "cell_type": "code",
   "execution_count": null,
   "id": "42091adc-f94f-487d-8360-eaf7885d986a",
   "metadata": {},
   "outputs": [],
   "source": [
    "print(df['fecha'].min(),'  ',df['fecha'].max())\n",
    "df.head(2)"
   ]
  },
  {
   "cell_type": "markdown",
   "id": "34695e9e-3d49-4877-81d0-b7d0e3c65296",
   "metadata": {
    "tags": []
   },
   "source": [
    "## Separar por regiones y buscar día con mayor número de personas en cuarentena"
   ]
  },
  {
   "cell_type": "code",
   "execution_count": null,
   "id": "4061212a-bccf-4fdf-88cd-9af6cbeaec4c",
   "metadata": {},
   "outputs": [],
   "source": [
    "df_region=df[['cod_region','region']]    #df con cod_region y region asociada\n",
    "df_region=df_region.drop_duplicates()\n"
   ]
  },
  {
   "cell_type": "code",
   "execution_count": null,
   "id": "f8eb9d71-05f3-45fb-a1ec-72f8b8abd30f",
   "metadata": {},
   "outputs": [],
   "source": [
    "def region_plot(x,df,dfreg):    ####### función para crear los plots de cada región individual\n",
    "    data_reg=df.loc[df['cod_region']==x]\n",
    "\n",
    "\n",
    "    data = data_reg.groupby(['fecha'], as_index= False)['población'].sum() # https://www.codegrepper.com/code-examples/python/how+to+sum+the+revenue+from+every+day+in+a+dataframe+python\n",
    "    # data['población'].max()\n",
    "    plt.rcParams[\"figure.figsize\"] = [9, 6]\n",
    "    plt.rcParams[\"figure.autolayout\"] = True\n",
    "    \n",
    "    plt.plot(data['fecha'], data['población'],linewidth=3 )\n",
    "    \n",
    "    n='Región de '+dfreg.loc[dfreg['cod_region']==x]['region'].values[0]+' (max = '+data['población'].max().astype(str)+')'  #label del titulo\n",
    "    plt.title(n, fontsize=25)\n",
    "    plt.ylabel('Población en cuarentena',fontsize=20)\n",
    "    plt.xlabel('Fecha ',fontsize=20)\n",
    "    plt.xticks(rotation=45)\n",
    "    plt.show()\n",
    "    \n",
    "    print('Dias con máximo de personas en cuarentena:')\n",
    "    print(data.loc[data['población']==data['población'].max()]['fecha'].head())"
   ]
  },
  {
   "cell_type": "markdown",
   "id": "4bdb8529-0af4-4577-99d6-3fd2dfc2a595",
   "metadata": {},
   "source": [
    "# Cantidad diaria de personas en cuarentena por región.\n",
    "#### Cada gráfico establece su punto máximo de personas en el título\n"
   ]
  },
  {
   "cell_type": "code",
   "execution_count": null,
   "id": "222ae1ec-052a-4726-96e9-6a7ce22fe0c2",
   "metadata": {},
   "outputs": [],
   "source": [
    "for i in range(1,17):\n",
    "    region_plot(i,df,df_region)"
   ]
  },
  {
   "cell_type": "markdown",
   "id": "f28f4e0f-ac9a-4c0d-97ae-23225bdff793",
   "metadata": {},
   "source": [
    "# A nivel país."
   ]
  },
  {
   "cell_type": "code",
   "execution_count": null,
   "id": "093ce348-6448-4a95-a0a0-40c787ed75d1",
   "metadata": {},
   "outputs": [],
   "source": [
    "def pais_plot(df):\n",
    "    #data_reg=df.loc[df['cod_region']==x]\n",
    "\n",
    "\n",
    "    data = df.groupby(['fecha'], as_index= False)['población'].sum() # https://www.codegrepper.com/code-examples/python/how+to+sum+the+revenue+from+every+day+in+a+dataframe+python\n",
    "   \n",
    "    plt.rcParams[\"figure.figsize\"] = [12, 8]\n",
    "    plt.rcParams[\"figure.autolayout\"] = True\n",
    "    \n",
    "    plt.plot(data['fecha'], data['población'],linewidth=3 )\n",
    "    \n",
    "    n='Personas en cuarentena por día'+' (max = '+data['población'].max().astype(str)+')'\n",
    "    plt.title(n, fontsize=30)\n",
    "    plt.ylabel('Población en cuarentena',fontsize=25)\n",
    "    plt.xlabel('Fecha ',fontsize=25)\n",
    "    plt.xticks(rotation=45)\n",
    "    plt.show()\n",
    "    print('Dias con máximo de personas en cuarentena:')\n",
    "    print(data.loc[data['población']==data['población'].max()]['fecha'].head())"
   ]
  },
  {
   "cell_type": "code",
   "execution_count": null,
   "id": "0ce363d4-09b9-4dc3-9b07-d33ce73fdc4a",
   "metadata": {},
   "outputs": [],
   "source": [
    "pais_plot(df)"
   ]
  },
  {
   "cell_type": "markdown",
   "id": "fe7d5ae9-df3d-4887-8141-4e5802f52a57",
   "metadata": {},
   "source": [
    "# Todas las regiones."
   ]
  },
  {
   "cell_type": "code",
   "execution_count": null,
   "id": "07a1d74e-e0f8-4a00-a932-bb2e45f3ebc9",
   "metadata": {},
   "outputs": [],
   "source": [
    "def all_regs_plot(df,dfreg):\n",
    "    \n",
    "\n",
    "    plt.rcParams[\"figure.figsize\"] = [15, 9]\n",
    "    plt.rcParams[\"figure.autolayout\"] = True\n",
    "    \n",
    "    for i in range(1,17):\n",
    "        \n",
    "        data_reg=df.loc[df['cod_region']==i]\n",
    "        data = data_reg.groupby(['fecha'], as_index= False)['población'].sum() # https://www.codegrepper.com/code-examples/python/how+to+sum+the+revenue+from+every+day+in+a+dataframe+python\n",
    "        plt.plot(data['fecha'], data['población'],linewidth=2 ,label=dfreg.loc[dfreg['cod_region']==i]['region'].values[0])\n",
    "    \n",
    "    #n='Región de '+dfreg.loc[dfreg['cod_region']==x]['region'].values[0]+' (max = '+data['población'].max().astype(str)+')'\n",
    "    plt.title('Personas en cuarentena por región', fontsize=25)\n",
    "    plt.ylabel('Población en cuarentena',fontsize=20)\n",
    "    plt.xlabel('Fecha ',fontsize=20)\n",
    "    plt.legend(loc='upper right')\n",
    "    plt.xticks(rotation=45)\n",
    "    plt.show()\n",
    "    "
   ]
  },
  {
   "cell_type": "code",
   "execution_count": null,
   "id": "91c8f945-d1bd-4221-b4cf-f5a274fe4e26",
   "metadata": {},
   "outputs": [],
   "source": [
    "all_regs_plot(df,df_region)"
   ]
  },
  {
   "cell_type": "code",
   "execution_count": null,
   "id": "f6a1a73f-907e-4cd4-b6bf-9e162cf145f1",
   "metadata": {},
   "outputs": [],
   "source": []
  },
  {
   "cell_type": "code",
   "execution_count": null,
   "id": "c03b756a-d803-46f4-b1df-8104537a418c",
   "metadata": {},
   "outputs": [],
   "source": []
  }
 ],
 "metadata": {
  "kernelspec": {
   "display_name": "Python 3 (ipykernel)",
   "language": "python",
   "name": "python3"
  },
  "language_info": {
   "codemirror_mode": {
    "name": "ipython",
    "version": 3
   },
   "file_extension": ".py",
   "mimetype": "text/x-python",
   "name": "python",
   "nbconvert_exporter": "python",
   "pygments_lexer": "ipython3",
   "version": "3.9.7"
  }
 },
 "nbformat": 4,
 "nbformat_minor": 5
}
